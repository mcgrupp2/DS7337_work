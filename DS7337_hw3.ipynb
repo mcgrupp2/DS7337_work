{
 "cells": [
  {
   "cell_type": "markdown",
   "metadata": {},
   "source": [
    "# Homework 3\n",
    "### DS7337 - 404\n",
    "\n",
    "Jason Rupp"
   ]
  },
  {
   "cell_type": "code",
   "execution_count": 16,
   "metadata": {
    "_cell_guid": "b1076dfc-b9ad-4769-8c92-a6c4dae69d19",
    "_uuid": "8f2839f25d086af736a60e9eeb907d3b93b6e0e5"
   },
   "outputs": [],
   "source": [
    "import numpy as np \n",
    "import pandas as pd \n",
    "from nltk.metrics import edit_distance\n",
    "from nltk.corpus import words, stopwords\n",
    "import re\n",
    "from nltk.stem import PorterStemmer\n",
    "\n",
    "class color:\n",
    "   PURPLE = '\\033[95m'\n",
    "   CYAN = '\\033[96m'\n",
    "   DARKCYAN = '\\033[36m'\n",
    "   BLUE = '\\033[94m'\n",
    "   GREEN = '\\033[92m'\n",
    "   YELLOW = '\\033[93m'\n",
    "   RED = '\\033[91m'\n",
    "   BOLD = '\\033[1m'\n",
    "   UNDERLINE = '\\033[4m'\n",
    "   END = '\\033[0m'\n",
    "    \n",
    "# https://stackoverflow.com/questions/8924173/how-do-i-print-bold-text-in-python\n"
   ]
  },
  {
   "cell_type": "markdown",
   "metadata": {},
   "source": [
    "#### 1. Compare your given name with your nickname (if you don’t have a nickname, invent one for this assignment) by answering the following questions:\n",
    "\n",
    "a. What is the edit distance between your nickname and your given name?    \n",
    "b. What is the percentage string match between your nickname and your given name?\n",
    "    \n",
    "Show your work for both calculations.\n"
   ]
  },
  {
   "cell_type": "code",
   "execution_count": 2,
   "metadata": {},
   "outputs": [],
   "source": [
    "def hb_edit_distance(str1, str2):\n",
    "    '''\n",
    "    function created with the help of the following resource:\n",
    "    https://www.w3resource.com/python-exercises/challenges/1/python-challenges-1-exercise-52.php    \n",
    "    '''\n",
    "    # normalize text\n",
    "    str1=str1.lower()\n",
    "    str2=str2.lower()\n",
    "    \n",
    "    # these vars will be used to assign the longer word\n",
    "    longer = \"\"\n",
    "    shorter = \"\"\n",
    "    \n",
    "    # if the lens differ, the edit distance starts there\n",
    "    if len(str1)>len(str2):\n",
    "        diff = len(str1) - len(str2)\n",
    "        longer = str1\n",
    "        shorter = str2\n",
    "    elif len(str2) > len(str1):\n",
    "        diff = len(str2) - len(str1)\n",
    "        longer = str2\n",
    "        shorter = str1\n",
    "    else:\n",
    "        diff = 0    \n",
    "    \n",
    "\n",
    "    # now compare differences in char\n",
    "    for i in range(len(shorter)):\n",
    "        if shorter[i] != longer[i]:\n",
    "            diff += 1\n",
    "    \n",
    "    return diff"
   ]
  },
  {
   "cell_type": "code",
   "execution_count": 70,
   "metadata": {},
   "outputs": [
    {
     "name": "stdout",
     "output_type": "stream",
     "text": [
      "3\n"
     ]
    }
   ],
   "source": [
    "# edit distance between name and nick name\n",
    "given_name = \"Jason\"\n",
    "\n",
    "nick_name = \"Jay\"\n",
    "\n",
    "nickNameDiff = hb_edit_distance(given_name,nick_name)\n",
    "\n",
    "print(nickNameDiff)"
   ]
  },
  {
   "cell_type": "code",
   "execution_count": 78,
   "metadata": {},
   "outputs": [
    {
     "name": "stdout",
     "output_type": "stream",
     "text": [
      "40.0%\n"
     ]
    }
   ],
   "source": [
    "# find percentage string match\n",
    "\n",
    "string_match = ((len(given_name) - nickNameDiff)/len(given_name)) * 100\n",
    "\n",
    "print(\"Percent String Match: \",string_match, \"%\", sep = \"\")"
   ]
  },
  {
   "cell_type": "markdown",
   "metadata": {},
   "source": [
    "The edit distance between my given name, Jason and nick name, Jay is 3. The percentage string match can be found by subtracting the edit distance from the total length of my given name and finding the percentage."
   ]
  },
  {
   "cell_type": "markdown",
   "metadata": {},
   "source": [
    "#### 2.\tFind a friend (or family member or classmate) who you know has read a certain book. Without your friend knowing, copy the first two sentences of that book. Now rewrite the words from those sentences, excluding stop words. Now tell your friend to guess which book the words are from by reading them just that list of words. Did you friend correctly guess the book on the first try? What did he or she guess? Explain why you think you friend either was or was not able to guess the book from hearing the list of words. "
   ]
  },
  {
   "cell_type": "markdown",
   "metadata": {},
   "source": [
    "*There was only orange juice in the fridge. Nothing else that you could put on cereal, unless you think that ketchup or mayonnaise or pickle juice would be nice on your Toastios, which I do not, and neither did my little sister, although she has eaten some pretty weird things in her day, like mushrooms in chocolate.*\n",
    "\n",
    "\n",
    "\n",
    "Fortunately, the Milk\n",
    "\n",
    "By: Neil Gaiman"
   ]
  },
  {
   "cell_type": "code",
   "execution_count": 4,
   "metadata": {},
   "outputs": [],
   "source": [
    "sentence1 = \"There was only orange juice in the fridge.\"\n",
    "sentence2 = \"\"\"Nothing else that you could put on cereal, \n",
    "unless you think that ketchup or mayonnaise or pickle juice would be nice on your Toastios, \n",
    "which I do not, and neither did my little sister, \n",
    "although she has eaten some pretty weird things in her day, \n",
    "like mushrooms in chocolate.\"\"\"\n",
    "\n"
   ]
  },
  {
   "cell_type": "code",
   "execution_count": 9,
   "metadata": {},
   "outputs": [],
   "source": [
    "def stop_drop(text, sort = False):\n",
    "    tokens= re.findall('\\w+', text.lower())\n",
    "    \n",
    "    stops = stopwords.words('english')\n",
    "    stops_dropped = [i for i in tokens if i not in stops]\n",
    "    \n",
    "    if sort:\n",
    "        stops_dropped = sorted(stops_dropped)\n",
    "    \n",
    "    return(stops_dropped)"
   ]
  },
  {
   "cell_type": "code",
   "execution_count": 10,
   "metadata": {},
   "outputs": [],
   "source": [
    "s1_stops_dropped = stop_drop(sentence1)\n",
    "s2_stops_dropped = stop_drop(sentence2)"
   ]
  },
  {
   "cell_type": "code",
   "execution_count": 34,
   "metadata": {
    "scrolled": true
   },
   "outputs": [
    {
     "name": "stdout",
     "output_type": "stream",
     "text": [
      "\u001b[1mFirst sentence:\u001b[0m orange juice fridge\n"
     ]
    }
   ],
   "source": [
    "print(color.BOLD + \"First sentence:\" + color.END, *s1_stops_dropped)"
   ]
  },
  {
   "cell_type": "code",
   "execution_count": 35,
   "metadata": {
    "scrolled": true
   },
   "outputs": [
    {
     "name": "stdout",
     "output_type": "stream",
     "text": [
      "\u001b[1mSecond sentence:\u001b[0m nothing else could put cereal unless think ketchup mayonnaise pickle juice would nice toastios neither little sister although eaten pretty weird things day like mushrooms chocolate\n"
     ]
    }
   ],
   "source": [
    "print(color.BOLD + \"Second sentence:\" + color.END, *s2_stops_dropped)"
   ]
  },
  {
   "cell_type": "markdown",
   "metadata": {},
   "source": [
    "***\n",
    "\n",
    "##### Response:"
   ]
  },
  {
   "cell_type": "markdown",
   "metadata": {},
   "source": [
    "The book I chose was from \"Fortunately, the Milk\" by Neil Gaiman. It is a children's book of about 100 pages that my daughter has read several times. She was able to recognize which book these two sentences came from within a matter of seconds, she even claimed to have known from the first sentence with just \"orange juice fridge\". \n",
    "\n",
    "The stop words don't add to the context of the sentence. The main themes are preserved after the stop words are removed, which is why she was able to guess correctly which book it came from."
   ]
  },
  {
   "cell_type": "markdown",
   "metadata": {},
   "source": [
    "#### 3.\tRun one of the stemmers available in Python. Run the same two sentences from question 2 above through the stemmer and show the results. How many of the outputted stems are valid morphological roots of the corresponding words? Express this answer as a percentage."
   ]
  },
  {
   "cell_type": "code",
   "execution_count": 43,
   "metadata": {},
   "outputs": [
    {
     "name": "stdout",
     "output_type": "stream",
     "text": [
      "\u001b[1mStemmed Sentences:\n",
      "\u001b[0m orang juic fridg noth els could put cereal unless think ketchup mayonnais pickl juic would nice toastio neither littl sister although eaten pretti weird thing day like mushroom chocol\n"
     ]
    }
   ],
   "source": [
    "ps = PorterStemmer()\n",
    "\n",
    "first_two = s1_stops_dropped + s2_stops_dropped\n",
    "\n",
    "ps_stemmed = [ps.stem(i) for i in first_two]\n",
    "\n",
    "print(color.BOLD + \"Stemmed Sentences:\\n\" + color.END, *ps_stemmed)"
   ]
  },
  {
   "cell_type": "code",
   "execution_count": 44,
   "metadata": {},
   "outputs": [],
   "source": [
    "def calc_real_word(text):\n",
    "    \n",
    "    # initialize dictionary \n",
    "    d = {\n",
    "    'realWords': [i for i in text if i in words.words()],\n",
    "    'realWord_count': sum([1 for i in text if i in words.words()]),\n",
    "    'totalWord_count':len(text)       \n",
    "    } \n",
    "    \n",
    "    d['realPercent'] = (d['realWord_count']/d['totalWord_count']) * 100\n",
    "\n",
    "    return(d)"
   ]
  },
  {
   "cell_type": "code",
   "execution_count": 45,
   "metadata": {},
   "outputs": [],
   "source": [
    "stemmed_sentences = calc_real_word(ps_stemmed)"
   ]
  },
  {
   "cell_type": "code",
   "execution_count": 51,
   "metadata": {
    "scrolled": false
   },
   "outputs": [
    {
     "name": "stdout",
     "output_type": "stream",
     "text": [
      "Percentage of stems that are words: 65.52%\n"
     ]
    }
   ],
   "source": [
    "print(\"Percentage of stems that are words: \", round(stemmed_sentences['realPercent'],2), \"%\", sep = \"\")"
   ]
  },
  {
   "cell_type": "code",
   "execution_count": 55,
   "metadata": {
    "scrolled": false
   },
   "outputs": [
    {
     "name": "stdout",
     "output_type": "stream",
     "text": [
      "orang\n",
      "els\n",
      "could\n",
      "put\n",
      "cereal\n",
      "unless\n",
      "think\n",
      "ketchup\n",
      "would\n",
      "nice\n",
      "neither\n",
      "sister\n",
      "although\n",
      "eaten\n",
      "weird\n",
      "thing\n",
      "day\n",
      "like\n",
      "mushroom\n"
     ]
    }
   ],
   "source": [
    "for i in range(len(stemmed_sentences['realWords'])):\n",
    "    print(stemmed_sentences['realWords'][i])"
   ]
  },
  {
   "cell_type": "code",
   "execution_count": 66,
   "metadata": {},
   "outputs": [],
   "source": [
    "adjusted_percent = (stemmed_sentences['realWord_count'] - 1)/stemmed_sentences['totalWord_count'] * 100"
   ]
  },
  {
   "cell_type": "code",
   "execution_count": 67,
   "metadata": {
    "scrolled": true
   },
   "outputs": [
    {
     "name": "stdout",
     "output_type": "stream",
     "text": [
      "Percentage of stems that are words: 62.07%\n"
     ]
    }
   ],
   "source": [
    "print(\"Adjusted percentage of stems that are words: \", round(adjusted_percent,2), \"%\", sep = \"\")"
   ]
  },
  {
   "cell_type": "markdown",
   "metadata": {},
   "source": [
    "The above percentage (~65%) is being calculated by comparing the stemmed words from the sentences, and comparing them the the English language words corpus available in the nltk package. If the word is found in the corpus it is considered valid. An inspection of the list chosen does possibly raise an issue or two. The first two words on the list below were considered real words.\n",
    "\n",
    "\n",
    "A quick google search reveals that orang is a <a href=\"https://www.google.com/search?q=orang&oq=orang&aqs=chrome.0.69i59j35i39j46i433j46i67i433j46i433l2j69i60l2.1959j0j7&sourceid=chrome&ie=UTF-8\">valid word</a>, though it seems like it is has a very uncommon usage. \n",
    "\n",
    "The second \"word\" on this list is \"els\" and there doesn't seem to be any such evidence for this being a word, only usage found was in an acronym. So it can be eliminate from this list and recalculated.\n",
    "\n",
    "The final percentage is about 62% of the word roots were valid words."
   ]
  }
 ],
 "metadata": {
  "kernelspec": {
   "display_name": "Python 3",
   "language": "python",
   "name": "python3"
  },
  "language_info": {
   "codemirror_mode": {
    "name": "ipython",
    "version": 3
   },
   "file_extension": ".py",
   "mimetype": "text/x-python",
   "name": "python",
   "nbconvert_exporter": "python",
   "pygments_lexer": "ipython3",
   "version": "3.8.5"
  }
 },
 "nbformat": 4,
 "nbformat_minor": 4
}
