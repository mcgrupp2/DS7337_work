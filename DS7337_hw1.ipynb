{
 "cells": [
  {
   "cell_type": "markdown",
   "metadata": {},
   "source": [
    "# Homework 1\n",
    "### DS7337 - 404\n",
    "\n",
    "Jason Rupp"
   ]
  },
  {
   "cell_type": "code",
   "execution_count": 1,
   "metadata": {},
   "outputs": [],
   "source": [
    "import pandas as pd\n",
    "import nltk\n",
    "import re\n",
    "from urllib import request\n",
    "from IPython.display import display"
   ]
  },
  {
   "attachments": {},
   "cell_type": "markdown",
   "metadata": {},
   "source": [
    "#### 1. Install Python (if you don’t have it already), and install NLTK."
   ]
  },
  {
   "cell_type": "markdown",
   "metadata": {},
   "source": [
    "![python version](data/pythonProof.png)\n",
    "\n",
    "![nltk version](data/nltkProof.png)"
   ]
  },
  {
   "attachments": {},
   "cell_type": "markdown",
   "metadata": {},
   "source": [
    "#### 2.\tFollow the instructions in chapter 1 of Bird-Klein for implementing a “lexical diversity” scoring routine."
   ]
  },
  {
   "cell_type": "code",
   "execution_count": 2,
   "metadata": {},
   "outputs": [],
   "source": [
    "def lexical_diversity(text):\n",
    "    ld_words = re.findall('\\w+', text.lower())\n",
    "    ld_uniq_words = set(ld_words)\n",
    "    return(len(ld_words), len(ld_uniq_words), round(len(ld_uniq_words)/len(ld_words),4))    "
   ]
  },
  {
   "cell_type": "markdown",
   "metadata": {},
   "source": [
    "The above function will be passed entire text from a book, then return the total number of words in the book, the total number of unique words and the lexical diversity of the text. It differs from the book example, as this method uses regex to separate the words. When I used the python function `set()` alone, as the example shows in the book, it only returned each unique unicode character, not the words. It seems like this was due to the format of the text I was attempting to use `set()`, but maybe there was another cause? Either way, the function I've written works well for what I need. This function will be used in subsequent steps to evaluate the lexical diversity of several books from the [Project Gutenburg](https://www.gutenberg.org/) website."
   ]
  },
  {
   "attachments": {},
   "cell_type": "markdown",
   "metadata": {},
   "source": [
    "#### 3. Go to http://www.gutenberg.org/wiki/Children%27s_Instructional_Books_(Bookshelf), and obtain three texts (of different grade levels) from the “Graded Readers” section. Report the lexical diversity score of each. Explain whether the result was surprising.\n",
    "\n",
    "#### 4.\tAlso compare the vocabulary size of the same three texts. Explain whether the result was surprising. "
   ]
  },
  {
   "cell_type": "markdown",
   "metadata": {},
   "source": [
    "Unfortunately, it appears that the website listed has changed the format as of last August, and the link given does not work. I still obtained several texts through this website, which have a grade level implied and was able to use these to still answer the questions. The results for questions 3 and 4 are following these code blocks."
   ]
  },
  {
   "cell_type": "code",
   "execution_count": 3,
   "metadata": {},
   "outputs": [],
   "source": [
    "urlss = [\"https://www.gutenberg.org/cache/epub/9078/pg9078.txt\",\n",
    "       \"https://www.gutenberg.org/files/51000/51000-0.txt\",\n",
    "       \"https://www.gutenberg.org/files/36864/36864-0.txt\"]\n",
    "\n",
    "gradeLevelss = [\"4th Year\", \"5th Year\", \"6th Year\"]\n",
    "\n",
    "bookTitless = ['Sanders\\' Union Fourth Reader, by Charles W. Sanders',\n",
    "             'School Reading By Grades: Fifth Year, by James Baldwin',             \n",
    "             'School Reading by Grades: Sixth Year by James Baldwin']\n",
    "\n",
    "wordCountss = []\n",
    "uniqWordss = []\n",
    "lexDevs = []\n",
    "\n",
    "for x in range(3):\n",
    "    #print(url)\n",
    "    response = request.urlopen(urlss[x])\n",
    "    raw = response.read().decode('utf8')\n",
    "    #print(raw)\n",
    "    wc, uw, ld = lexical_diversity(raw)\n",
    "    wordCountss.append(wc)\n",
    "    uniqWordss.append(uw)\n",
    "    lexDevs.append(ld)"
   ]
  },
  {
   "cell_type": "code",
   "execution_count": 4,
   "metadata": {},
   "outputs": [],
   "source": [
    "colNames = [\"Grade Level\", \n",
    "            \"Book Title\", \n",
    "            \"Unique Word Count\", \n",
    "            \"Total Word Count\", \n",
    "            \"Lexical Diversity\"\n",
    "           ]\n",
    "\n",
    "allDatas = pd.DataFrame(\n",
    "    list(zip(gradeLevelss, bookTitless, uniqWordss, wordCountss, lexDevs)),\n",
    "    columns = colNames\n",
    ")"
   ]
  },
  {
   "cell_type": "code",
   "execution_count": 5,
   "metadata": {},
   "outputs": [],
   "source": [
    "urls = [\"https://www.gutenberg.org/files/34605/34605-0.txt\",\n",
    "       \"https://www.gutenberg.org/cache/epub/34728/pg34728.txt\",\n",
    "       \"https://www.gutenberg.org/files/44804/44804-0.txt\"]\n",
    "\n",
    "gradeLevels = [\"9th Grade\", \"10th Grade\", \"11th Grade\"]\n",
    "\n",
    "bookTitles = ['Betty Lee, Freshman, by Harriet Pyne Grove',\n",
    "             'Betty Lee, Sophomore, by Harriet Pyne Grove',\n",
    "             'Betty Lee, Junior, by Harriet Pyne Grove']\n",
    "\n",
    "wordCounts = []\n",
    "uniqWords = []\n",
    "lexDev = []\n",
    "\n",
    "for x in range(3):\n",
    "    #print(url)\n",
    "    response = request.urlopen(urls[x])\n",
    "    raw = response.read().decode('utf8')\n",
    "    #print(raw)\n",
    "    wc, uw, ld = lexical_diversity(raw)\n",
    "    wordCounts.append(wc)\n",
    "    uniqWords.append(uw)\n",
    "    lexDev.append(ld)\n",
    "\n",
    "allData = pd.DataFrame(\n",
    "    list(zip(gradeLevels, bookTitles, uniqWords,wordCounts, lexDev)),\n",
    "    columns = colNames\n",
    ")"
   ]
  },
  {
   "cell_type": "code",
   "execution_count": 6,
   "metadata": {
    "scrolled": true
   },
   "outputs": [
    {
     "data": {
      "text/html": [
       "<div>\n",
       "<style scoped>\n",
       "    .dataframe tbody tr th:only-of-type {\n",
       "        vertical-align: middle;\n",
       "    }\n",
       "\n",
       "    .dataframe tbody tr th {\n",
       "        vertical-align: top;\n",
       "    }\n",
       "\n",
       "    .dataframe thead th {\n",
       "        text-align: right;\n",
       "    }\n",
       "</style>\n",
       "<table border=\"1\" class=\"dataframe\">\n",
       "  <thead>\n",
       "    <tr style=\"text-align: right;\">\n",
       "      <th></th>\n",
       "      <th>Grade Level</th>\n",
       "      <th>Book Title</th>\n",
       "      <th>Unique Word Count</th>\n",
       "      <th>Total Word Count</th>\n",
       "      <th>Lexical Diversity</th>\n",
       "    </tr>\n",
       "  </thead>\n",
       "  <tbody>\n",
       "    <tr>\n",
       "      <th>0</th>\n",
       "      <td>4th Year</td>\n",
       "      <td>Sanders' Union Fourth Reader, by Charles W. Sa...</td>\n",
       "      <td>14169</td>\n",
       "      <td>114163</td>\n",
       "      <td>0.1241</td>\n",
       "    </tr>\n",
       "    <tr>\n",
       "      <th>1</th>\n",
       "      <td>5th Year</td>\n",
       "      <td>School Reading By Grades: Fifth Year, by James...</td>\n",
       "      <td>7751</td>\n",
       "      <td>47351</td>\n",
       "      <td>0.1637</td>\n",
       "    </tr>\n",
       "    <tr>\n",
       "      <th>2</th>\n",
       "      <td>6th Year</td>\n",
       "      <td>School Reading by Grades: Sixth Year by James ...</td>\n",
       "      <td>8670</td>\n",
       "      <td>61909</td>\n",
       "      <td>0.1400</td>\n",
       "    </tr>\n",
       "  </tbody>\n",
       "</table>\n",
       "</div>"
      ],
      "text/plain": [
       "  Grade Level                                         Book Title  \\\n",
       "0    4th Year  Sanders' Union Fourth Reader, by Charles W. Sa...   \n",
       "1    5th Year  School Reading By Grades: Fifth Year, by James...   \n",
       "2    6th Year  School Reading by Grades: Sixth Year by James ...   \n",
       "\n",
       "   Unique Word Count  Total Word Count  Lexical Diversity  \n",
       "0              14169            114163             0.1241  \n",
       "1               7751             47351             0.1637  \n",
       "2               8670             61909             0.1400  "
      ]
     },
     "metadata": {},
     "output_type": "display_data"
    }
   ],
   "source": [
    "display(allDatas)"
   ]
  },
  {
   "cell_type": "markdown",
   "metadata": {},
   "source": [
    "The above table shows the result for the first set of texts. The lexical diversity scores for each of these are in the far right column. These results were very surprising. It seems as though there are 2 sides to this question from an assumption standpoint. Either the \"youngest\" books would have the most lexical diversity, as the young vocab needs exposure to many different words to mature nicely, or the inverse is true, the \"older\" books are more diverse as the more mature vocab can handle a more lexically diverse text. Going in to the exercise, the preconceived notion that I had was more in line with the latter of the two options suggested. It seemed like the lexical diversity would be greater in the books that were intended for older, more experienced readers. The results that were obtained seemed to go against this notion slightly. There is no particular trend to be found with the 3 texts that were evaluated. Even with the second and third texts, which seem to be a part of a series, so a comparison may be more similar, it goes against what was expected. These results were so surprising that an additional 3 graded texts were obtained to test this notion.\n",
    "\n",
    "The vocabulary size for each of these text are difficult to compare, as the total number of words between these three texts differs greatly. The youngest grade had the most unique vocabulary words and the middle grade had the least. This result wasn't as surprising, but that is because of the obvious problem of different numbers of total words. To build on this, we can see that the \"4th Year\" text has the highest vocab count, however it is the least diverse, and the \"5th Year\" has the least number of unique words, but the most lexically diverse. Again, these results were suspect, and additional texts were evaluated."
   ]
  },
  {
   "cell_type": "code",
   "execution_count": 7,
   "metadata": {},
   "outputs": [
    {
     "data": {
      "text/html": [
       "<div>\n",
       "<style scoped>\n",
       "    .dataframe tbody tr th:only-of-type {\n",
       "        vertical-align: middle;\n",
       "    }\n",
       "\n",
       "    .dataframe tbody tr th {\n",
       "        vertical-align: top;\n",
       "    }\n",
       "\n",
       "    .dataframe thead th {\n",
       "        text-align: right;\n",
       "    }\n",
       "</style>\n",
       "<table border=\"1\" class=\"dataframe\">\n",
       "  <thead>\n",
       "    <tr style=\"text-align: right;\">\n",
       "      <th></th>\n",
       "      <th>Grade Level</th>\n",
       "      <th>Book Title</th>\n",
       "      <th>Unique Word Count</th>\n",
       "      <th>Total Word Count</th>\n",
       "      <th>Lexical Diversity</th>\n",
       "    </tr>\n",
       "  </thead>\n",
       "  <tbody>\n",
       "    <tr>\n",
       "      <th>0</th>\n",
       "      <td>9th Grade</td>\n",
       "      <td>Betty Lee, Freshman, by Harriet Pyne Grove</td>\n",
       "      <td>4876</td>\n",
       "      <td>53947</td>\n",
       "      <td>0.0904</td>\n",
       "    </tr>\n",
       "    <tr>\n",
       "      <th>1</th>\n",
       "      <td>10th Grade</td>\n",
       "      <td>Betty Lee, Sophomore, by Harriet Pyne Grove</td>\n",
       "      <td>4559</td>\n",
       "      <td>52073</td>\n",
       "      <td>0.0876</td>\n",
       "    </tr>\n",
       "    <tr>\n",
       "      <th>2</th>\n",
       "      <td>11th Grade</td>\n",
       "      <td>Betty Lee, Junior, by Harriet Pyne Grove</td>\n",
       "      <td>4802</td>\n",
       "      <td>56088</td>\n",
       "      <td>0.0856</td>\n",
       "    </tr>\n",
       "  </tbody>\n",
       "</table>\n",
       "</div>"
      ],
      "text/plain": [
       "  Grade Level                                   Book Title  Unique Word Count  \\\n",
       "0   9th Grade   Betty Lee, Freshman, by Harriet Pyne Grove               4876   \n",
       "1  10th Grade  Betty Lee, Sophomore, by Harriet Pyne Grove               4559   \n",
       "2  11th Grade     Betty Lee, Junior, by Harriet Pyne Grove               4802   \n",
       "\n",
       "   Total Word Count  Lexical Diversity  \n",
       "0             53947             0.0904  \n",
       "1             52073             0.0876  \n",
       "2             56088             0.0856  "
      ]
     },
     "metadata": {},
     "output_type": "display_data"
    }
   ],
   "source": [
    "display(allData)"
   ]
  },
  {
   "cell_type": "markdown",
   "metadata": {},
   "source": [
    "The above texts were subsequently obtained from the [Project Gutenburg](https://www.gutenberg.org/) website. Each of these texts were in the Juvenile Fiction section of the website, and what was nice was that it was implicitly stated for what grade level they were intended. Another thing which appealed about this second round of texts is that they all seem to be a part of a series. It would seem like they would increase in difficulty from a reasoning standpoint. What isn't ideal about evaluating these texts is that they all have the same author. This author may only have a certain vocab size, and they would absolutely have a specific writing style, if the entire book was written by this author.\n",
    "\n",
    "Again, the results are somewhat surprising. What is improved is a relative standardization of the word count between all three of these texts. They all have the same general number of total words, so the unique word count or vocabulary count is comparable between all three grade levels, however the same author for all the books could impact this statistic greatly. \n",
    "\n",
    "There doesn't appear to be any specific trend to these values with regard to differing grade levels. "
   ]
  },
  {
   "attachments": {},
   "cell_type": "markdown",
   "metadata": {},
   "source": [
    "#### 5. Write a paragraph arguing whether vocabulary size and lexical diversity in combination could be a better measure of text difficulty (or reading level) than either measure is by itself."
   ]
  },
  {
   "cell_type": "markdown",
   "metadata": {},
   "source": [
    "It seems like lexical diversity may be a better indicator of text difficulty, however this belief is still rooted in my preconceived notions going into this exercise. The vocabulary size statistic is flawed for reasons we saw in the first set of texts. The \"youngest\" book had the highest vocab count between all of the books, but upon further evaluation, it had the highest total word count by a large margin, so the unique vocabulary would be more likely to be the highest. \n",
    "\n",
    "If one wanted to use either of these measures to judge grade level of a text, it seems like the lexical diversity statistic may be more useful. This measure somewhat eliminates the effect of differing lengths of text, as it is a measure that is percentage based. As we saw with the first example, just showing the raw vocab count may be highly flawed.\n",
    "\n",
    "Both of these methods might not be a good judge alone, as it doesn't really take into account the complexity of the words or meaning behind the text, which of course raises the question of whether either of these methods would be sufficient."
   ]
  }
 ],
 "metadata": {
  "kernelspec": {
   "display_name": "Python 3",
   "language": "python",
   "name": "python3"
  },
  "language_info": {
   "codemirror_mode": {
    "name": "ipython",
    "version": 3
   },
   "file_extension": ".py",
   "mimetype": "text/x-python",
   "name": "python",
   "nbconvert_exporter": "python",
   "pygments_lexer": "ipython3",
   "version": "3.8.5"
  }
 },
 "nbformat": 4,
 "nbformat_minor": 4
}
